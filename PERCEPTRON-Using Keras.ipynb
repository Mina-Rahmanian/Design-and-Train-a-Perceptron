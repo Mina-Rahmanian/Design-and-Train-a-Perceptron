{
  "nbformat": 4,
  "nbformat_minor": 0,
  "metadata": {
    "colab": {
      "name": "PERCEPTRON.ipynb",
      "private_outputs": true,
      "provenance": []
    },
    "kernelspec": {
      "name": "python3",
      "display_name": "Python 3"
    }
  },
  "cells": [
    {
      "cell_type": "markdown",
      "metadata": {
        "id": "BJCwrPxlhRTb"
      },
      "source": [
        "**Mina Rahmanian**\r\n"
      ]
    },
    {
      "cell_type": "code",
      "metadata": {
        "id": "En0UCPGshH2n"
      },
      "source": [
        "# ----------------- The running results is given at the end of this file ----------------\r\n",
        "\r\n",
        "\r\n",
        "import numpy as np\r\n",
        "import pandas as pd\r\n",
        "\r\n",
        "from google.colab import drive\r\n",
        "drive.mount('/content/drive')\r\n",
        "import os\r\n",
        "os.chdir(\"/content/drive/\")\r\n",
        "\r\n",
        "np.random.seed(7)\r\n",
        "\r\n",
        "df_train = pd.read_csv('My Drive/dataset/Iris/iris_train.txt',sep=',')\r\n",
        "df_test = pd.read_csv('My Drive/dataset/Iris/iris_test.txt',sep=',')\r\n",
        "\r\n",
        "print(df_train.shape)\r\n",
        "df_train.head()\r\n",
        "\r\n",
        "#-------------------------------------------\r\n",
        "# convert string to float\r\n",
        "for col_name in df_train.columns:\r\n",
        "    if(df_train[col_name].dtype == 'object'):\r\n",
        "        df_train[col_name]= df_train[col_name].astype('category')\r\n",
        "        df_train[col_name] = df_train[col_name].cat.codes\r\n",
        "for col_name in df_test.columns:\r\n",
        "    if(df_test[col_name].dtype == 'object'):\r\n",
        "        df_test[col_name]= df_test[col_name].astype('category')\r\n",
        "        df_test[col_name] = df_test[col_name].cat.codes\r\n",
        "\r\n",
        "#-----------------------------------------\r\n",
        "y_train = df_train.iloc[:,-1]\r\n",
        "X_train = df_train.drop('Iris-setosa',axis=1)\r\n",
        "\r\n",
        "y_test = df_test.iloc[:,-1]\r\n",
        "X_test = df_test.drop('Iris-setosa',axis=1)\r\n",
        "\r\n",
        "#---------------------------------------\r\n",
        "# model definition and training\r\n",
        "from sklearn.neural_network import MLPClassifier\r\n",
        "mlp = MLPClassifier(hidden_layer_sizes=(13,13,13),max_iter=500)\r\n",
        "mlp.fit(X_train,y_train)\r\n",
        "\r\n",
        "#------------------------------------------\r\n",
        "# using training model for prediction\r\n",
        "predictions = mlp.predict(X_test)\r\n",
        "\r\n",
        "#-------------------------------------------\r\n",
        "# calculating of confusion matrix for showing accuracy \r\n",
        "from sklearn.metrics import classification_report,confusion_matrix\r\n",
        "print(confusion_matrix(y_test,predictions))\r\n",
        "\r\n",
        "\r\n"
      ],
      "execution_count": null,
      "outputs": []
    }
  ]
}